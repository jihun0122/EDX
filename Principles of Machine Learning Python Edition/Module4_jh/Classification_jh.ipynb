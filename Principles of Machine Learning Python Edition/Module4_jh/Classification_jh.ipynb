{
 "cells": [
  {
   "cell_type": "markdown",
   "metadata": {},
   "source": [
    "# Applications of Classification\n",
    "\n",
    "In this lab you will perform **two-class classification** using **logistic regression**. A classifier is a machine learning model that separates the **label** into categories or **classes**. In other words, classification models are **supervised** machine learning models which predict a categorical label.\n",
    "\n",
    "The German Credit bank customer data is used to determine if a particular person is a good or bad credit risk. Thus, credit risk of the customer is the classes you must predict. In this case, the cost to the bank of issuing a loan to a bad risk customer is five times that of denying a loan to a good customer. This fact will become important when evaluating the performance of the model. \n",
    "\n",
    "Logistic regression is a linear model but with a nonlinear response. The response is binary, $\\{ 0,1 \\}$, or positive and negative. The response is the prediction of the category. \n",
    "\n",
    "In this lab you will learn the following: \n",
    "-  How to prepare data for classification models using scikit-learn. \n",
    "-  Constructing a classification model using scikit-learn.\n",
    "-  Evaluating the performance of the classification model. \n",
    "-  Using techniques such as reweighting the labels and changing the decision threshold to change the trade-off between false positive and false negative error rates. "
   ]
  },
  {
   "cell_type": "markdown",
   "metadata": {},
   "source": [
    "## Basics of logistic regression\n",
    "\n",
    "In this section some basic properties of the logistic regression model are presented. \n",
    "\n",
    "First, execute the code in the cell below to load the packages required  to run this notebook. "
   ]
  },
  {
   "cell_type": "code",
   "execution_count": 1,
   "metadata": {
    "collapsed": true
   },
   "outputs": [],
   "source": [
    "import pandas as pd\n",
    "import matplotlib.pyplot as plt\n",
    "import seaborn as sns\n",
    "import numpy as np\n",
    "import numpy.random as nr\n",
    "import math\n",
    "from sklearn import preprocessing\n",
    "import sklearn.model_selection as ms\n",
    "from sklearn import linear_model\n",
    "import sklearn.metrics as sklm\n",
    "\n",
    "%matplotlib inline"
   ]
  },
  {
   "cell_type": "markdown",
   "metadata": {},
   "source": [
    "Logistic regression is widely used as a classification model. Logistic regression is linear model, with a binary response, `{False, True}` or `{0, 1}`. You can think of this response as having a Binomial distribution. For linear regression the response is just, well, linear. Logistic regression is a linear regression model with a nonlinear output. The response of the linear model is transformed or 'squashed' to values close to 0 and 1 using a **sigmoidal function**, also known as the **logistic function**. The result of this transformation is a response which is the log likelihood for each of the two classes. \n",
    "\n",
    "The sigmoidal or logistic function can be expressed as follows:\n",
    "\n",
    "$$f(x) = \\frac{1}{1 + e^{-\\kappa(x - x_0)}} \\\\\n",
    "\\kappa = steepness$$\n",
    "\n",
    "Execute the code in the cell below to compute and plot an example of the logistic function."
   ]
  },
  {
   "cell_type": "code",
   "execution_count": 2,
   "metadata": {
    "scrolled": true
   },
   "outputs": [
    {
     "data": {
      "text/plain": [
       "Text(0.5,0,'Value of output from linear regression')"
      ]
     },
     "execution_count": 2,
     "metadata": {},
     "output_type": "execute_result"
    },
    {
     "data": {
      "image/png": "[encoded data removed]",
      "text/plain": [
       "<matplotlib.figure.Figure at 0xaffe1f0>"
      ]
     },
     "metadata": {},
     "output_type": "display_data"
    }
   ],
   "source": [
    "xseq = np.arange(-7, 7, 0.1)\n",
    "\n",
    "logistic = [math.exp(v)/(1 + math.exp(v)) for v in xseq]\n",
    "\n",
    "plt.plot(xseq, logistic, color = 'red')\n",
    "plt.plot([-7,7], [0.5,0.5], color = 'blue')\n",
    "plt.plot([0,0], [0,1], color = 'blue')\n",
    "plt.title('Logistic function for two-class classification')\n",
    "plt.ylabel('log likelihood')\n",
    "plt.xlabel('Value of output from linear regression')"
   ]
  },
  {
   "cell_type": "markdown",
   "metadata": {},
   "source": [
    "Let's make this a bit more concrete with a simple example. Say we have a linear model:\n",
    "\n",
    "$$\\hat{y} = \\beta_0 + \\beta_1\\ x$$\n",
    "\n",
    "Now, depending on the value of $\\hat{y}$ we want to classify the output from a logistic regression model as either `0` or `1`. Substituting the linear model into the logistic function creates the following expression:\n",
    "\n",
    "$$F(\\hat{y}) = \\frac{1}{1 + e^{-\\kappa(\\beta_0 + \\beta_1\\ x)}} $$\n",
    "\n",
    "In this way we transform the continuous output of the linear model defined on $-\\infty \\le \\hat{y} \\le \\infty$ to a binary response, $0 \\le F(\\hat{y}) \\le 1$."
   ]
  },
  {
   "cell_type": "markdown",
   "metadata": {},
   "source": [
    "## Load and prepare the data set\n",
    "\n",
    "As a first step, load the dataset. The code in the cell below loads the dataset and assigns human-readable names to the columns. Execute this code and examine the result. \n",
    "\n",
    "You should by now be very familiar with the next few sections as we have covered them in detail in previous labs."
   ]
  },
  {
   "cell_type": "code",
   "execution_count": 3,
   "metadata": {},
   "outputs": [
    {
     "name": "stdout",
     "output_type": "stream",
     "text": [
      "(1000, 22)\n"
     ]
    },
    {
     "data": {
      "text/html": [
       "<div>\n",
       "<style>\n",
       "    .dataframe thead tr:only-child th {\n",
       "        text-align: right;\n",
       "    }\n",
       "\n",
       "    .dataframe thead th {\n",
       "        text-align: left;\n",
       "    }\n",
       "\n",
       "    .dataframe tbody tr th {\n",
       "        vertical-align: top;\n",
       "    }\n",
       "</style>\n",
       "<table border=\"1\" class=\"dataframe\">\n",
       "  <thead>\n",
       "    <tr style=\"text-align: right;\">\n",
       "      <th></th>\n",
       "      <th>customer_id</th>\n",
       "      <th>checking_account_status</th>\n",
       "      <th>loan_duration_mo</th>\n",
       "      <th>credit_history</th>\n",
       "      <th>purpose</th>\n",
       "      <th>loan_amount</th>\n",
       "      <th>savings_account_balance</th>\n",
       "      <th>time_employed_yrs</th>\n",
       "      <th>payment_pcnt_income</th>\n",
       "      <th>gender_status</th>\n",
       "      <th>...</th>\n",
       "      <th>property</th>\n",
       "      <th>age_yrs</th>\n",
       "      <th>other_credit_outstanding</th>\n",
       "      <th>home_ownership</th>\n",
       "      <th>number_loans</th>\n",
       "      <th>job_category</th>\n",
       "      <th>dependents</th>\n",
       "      <th>telephone</th>\n",
       "      <th>foreign_worker</th>\n",
       "      <th>bad_credit</th>\n",
       "    </tr>\n",
       "  </thead>\n",
       "  <tbody>\n",
       "    <tr>\n",
       "      <th>0</th>\n",
       "      <td>1122334</td>\n",
       "      <td>&lt; 0 DM</td>\n",
       "      <td>6</td>\n",
       "      <td>critical account - other non-bank loans</td>\n",
       "      <td>radio/television</td>\n",
       "      <td>1169</td>\n",
       "      <td>unknown/none</td>\n",
       "      <td>&gt;= 7 years</td>\n",
       "      <td>4</td>\n",
       "      <td>male-single</td>\n",
       "      <td>...</td>\n",
       "      <td>real estate</td>\n",
       "      <td>67</td>\n",
       "      <td>none</td>\n",
       "      <td>own</td>\n",
       "      <td>2</td>\n",
       "      <td>skilled</td>\n",
       "      <td>1</td>\n",
       "      <td>yes</td>\n",
       "      <td>yes</td>\n",
       "      <td>0</td>\n",
       "    </tr>\n",
       "    <tr>\n",
       "      <th>1</th>\n",
       "      <td>6156361</td>\n",
       "      <td>0 - 200 DM</td>\n",
       "      <td>48</td>\n",
       "      <td>current loans paid</td>\n",
       "      <td>radio/television</td>\n",
       "      <td>5951</td>\n",
       "      <td>&lt; 100 DM</td>\n",
       "      <td>1 - 4 years</td>\n",
       "      <td>2</td>\n",
       "      <td>female-divorced/separated/married</td>\n",
       "      <td>...</td>\n",
       "      <td>real estate</td>\n",
       "      <td>22</td>\n",
       "      <td>none</td>\n",
       "      <td>own</td>\n",
       "      <td>1</td>\n",
       "      <td>skilled</td>\n",
       "      <td>1</td>\n",
       "      <td>none</td>\n",
       "      <td>yes</td>\n",
       "      <td>1</td>\n",
       "    </tr>\n",
       "    <tr>\n",
       "      <th>2</th>\n",
       "      <td>2051359</td>\n",
       "      <td>none</td>\n",
       "      <td>12</td>\n",
       "      <td>critical account - other non-bank loans</td>\n",
       "      <td>education</td>\n",
       "      <td>2096</td>\n",
       "      <td>&lt; 100 DM</td>\n",
       "      <td>4 - 7 years</td>\n",
       "      <td>2</td>\n",
       "      <td>male-single</td>\n",
       "      <td>...</td>\n",
       "      <td>real estate</td>\n",
       "      <td>49</td>\n",
       "      <td>none</td>\n",
       "      <td>own</td>\n",
       "      <td>1</td>\n",
       "      <td>unskilled-resident</td>\n",
       "      <td>2</td>\n",
       "      <td>none</td>\n",
       "      <td>yes</td>\n",
       "      <td>0</td>\n",
       "    </tr>\n",
       "    <tr>\n",
       "      <th>3</th>\n",
       "      <td>8740590</td>\n",
       "      <td>&lt; 0 DM</td>\n",
       "      <td>42</td>\n",
       "      <td>current loans paid</td>\n",
       "      <td>furniture/equipment</td>\n",
       "      <td>7882</td>\n",
       "      <td>&lt; 100 DM</td>\n",
       "      <td>4 - 7 years</td>\n",
       "      <td>2</td>\n",
       "      <td>male-single</td>\n",
       "      <td>...</td>\n",
       "      <td>building society savings/life insurance</td>\n",
       "      <td>45</td>\n",
       "      <td>none</td>\n",
       "      <td>for free</td>\n",
       "      <td>1</td>\n",
       "      <td>skilled</td>\n",
       "      <td>2</td>\n",
       "      <td>none</td>\n",
       "      <td>yes</td>\n",
       "      <td>0</td>\n",
       "    </tr>\n",
       "    <tr>\n",
       "      <th>4</th>\n",
       "      <td>3924540</td>\n",
       "      <td>&lt; 0 DM</td>\n",
       "      <td>24</td>\n",
       "      <td>past payment delays</td>\n",
       "      <td>car (new)</td>\n",
       "      <td>4870</td>\n",
       "      <td>&lt; 100 DM</td>\n",
       "      <td>1 - 4 years</td>\n",
       "      <td>3</td>\n",
       "      <td>male-single</td>\n",
       "      <td>...</td>\n",
       "      <td>unknown-none</td>\n",
       "      <td>53</td>\n",
       "      <td>none</td>\n",
       "      <td>for free</td>\n",
       "      <td>2</td>\n",
       "      <td>skilled</td>\n",
       "      <td>2</td>\n",
       "      <td>none</td>\n",
       "      <td>yes</td>\n",
       "      <td>1</td>\n",
       "    </tr>\n",
       "  </tbody>\n",
       "</table>\n",
       "<p>5 rows × 22 columns</p>\n",
       "</div>"
      ],
      "text/plain": [
       "   customer_id checking_account_status  loan_duration_mo  \\\n",
       "0      1122334                  < 0 DM                 6   \n",
       "1      6156361              0 - 200 DM                48   \n",
       "2      2051359                    none                12   \n",
       "3      8740590                  < 0 DM                42   \n",
       "4      3924540                  < 0 DM                24   \n",
       "\n",
       "                            credit_history              purpose  loan_amount  \\\n",
       "0  critical account - other non-bank loans     radio/television         1169   \n",
       "1                       current loans paid     radio/television         5951   \n",
       "2  critical account - other non-bank loans            education         2096   \n",
       "3                       current loans paid  furniture/equipment         7882   \n",
       "4                      past payment delays            car (new)         4870   \n",
       "\n",
       "  savings_account_balance time_employed_yrs  payment_pcnt_income  \\\n",
       "0            unknown/none        >= 7 years                    4   \n",
       "1                < 100 DM       1 - 4 years                    2   \n",
       "2                < 100 DM       4 - 7 years                    2   \n",
       "3                < 100 DM       4 - 7 years                    2   \n",
       "4                < 100 DM       1 - 4 years                    3   \n",
       "\n",
       "                       gender_status    ...      \\\n",
       "0                        male-single    ...       \n",
       "1  female-divorced/separated/married    ...       \n",
       "2                        male-single    ...       \n",
       "3                        male-single    ...       \n",
       "4                        male-single    ...       \n",
       "\n",
       "                                  property  age_yrs other_credit_outstanding  \\\n",
       "0                              real estate       67                     none   \n",
       "1                              real estate       22                     none   \n",
       "2                              real estate       49                     none   \n",
       "3  building society savings/life insurance       45                     none   \n",
       "4                             unknown-none       53                     none   \n",
       "\n",
       "   home_ownership number_loans        job_category  dependents telephone  \\\n",
       "0             own            2             skilled           1       yes   \n",
       "1             own            1             skilled           1      none   \n",
       "2             own            1  unskilled-resident           2      none   \n",
       "3        for free            1             skilled           2      none   \n",
       "4        for free            2             skilled           2      none   \n",
       "\n",
       "   foreign_worker bad_credit  \n",
       "0             yes          0  \n",
       "1             yes          1  \n",
       "2             yes          0  \n",
       "3             yes          0  \n",
       "4             yes          1  \n",
       "\n",
       "[5 rows x 22 columns]"
      ]
     },
     "execution_count": 3,
     "metadata": {},
     "output_type": "execute_result"
    }
   ],
   "source": [
    "credit = pd.read_csv('German_Credit_Preped.csv')\n",
    "print(credit.shape)\n",
    "credit.head()"
   ]
  },
  {
   "cell_type": "markdown",
   "metadata": {},
   "source": [
    "There are 22 columns, 1 customer identifier column, 20 features, plus a label column. These features represent information a bank might have on its customers. "
   ]
  },
  {
   "cell_type": "markdown",
   "metadata": {},
   "source": [
    "There is one other aspect of this data set which you should be aware of. The label has significant **class imbalance**. Class imbalance means that there are  unequal numbers of cases for the categories of the label. \n",
    "\n",
    "To examine the class imbalance in these data, execute the code in the cell below. "
   ]
  },
  {
   "cell_type": "code",
   "execution_count": 4,
   "metadata": {},
   "outputs": [
    {
     "name": "stdout",
     "output_type": "stream",
     "text": [
      "            credit_history\n",
      "bad_credit                \n",
      "0                      700\n",
      "1                      300\n"
     ]
    }
   ],
   "source": [
    "credit_counts = credit[['credit_history', 'bad_credit']].groupby('bad_credit').count()\n",
    "print(credit_counts)"
   ]
  },
  {
   "cell_type": "markdown",
   "metadata": {},
   "source": [
    "Notice that only 30% of the cases have bad credit. This is not surprising, since a bank would typically retain customers with good credit. However, this imbalance will bias the training of any model. \n",
    "\n",
    "Before proceeding, answer **Question 1** on the course page."
   ]
  },
  {
   "cell_type": "markdown",
   "metadata": {},
   "source": [
    "## Prepare data for scikit-learn model\n",
    "\n",
    "With the data prepared, it is time to create the numpy arrays required for the scikit-learn model. \n",
    "\n",
    "The code in the cell below creates a numpy array of the label values. Execute this code. "
   ]
  },
  {
   "cell_type": "code",
   "execution_count": 5,
   "metadata": {
    "collapsed": true
   },
   "outputs": [],
   "source": [
    "labels = np.array(credit['bad_credit'])"
   ]
  },
  {
   "cell_type": "markdown",
   "metadata": {},
   "source": [
    "Now, you need to create the numpy feature array or **model matrix**. As first step, the categorical variables need to be recoded as binary dummy variables. As discussed in another lesson this is a three step process:\n",
    "\n",
    "1. Encode the categorical string variables as integers.\n",
    "2. Transform the integer coded variables to dummy variables. \n",
    "3. Append each dummy coded categorical variable to the model matrix. \n",
    "\n",
    "Execute the code in the cell below to perform this processing and examine the results. "
   ]
  },
  {
   "cell_type": "code",
   "execution_count": 6,
   "metadata": {},
   "outputs": [
    {
     "name": "stdout",
     "output_type": "stream",
     "text": [
      "(1000, 31)\n",
      "[[ 0.  1.  0.  0.  0.  1.  0.  0.  0.  0.  0.  0.  0.  0.  0.  0.  1.  0.\n",
      "   0.  0.  0.  0.  1.  0.  0.  0.  1.  0.  0.  1.  0.]\n",
      " [ 1.  0.  0.  0.  0.  0.  1.  0.  0.  0.  0.  0.  0.  0.  0.  0.  1.  0.\n",
      "   0.  1.  0.  0.  0.  0.  1.  0.  0.  0.  0.  1.  0.]]\n"
     ]
    }
   ],
   "source": [
    "def encode_string(cat_features):\n",
    "    ## First encode the strings to numeric categories\n",
    "    enc = preprocessing.LabelEncoder()\n",
    "    enc.fit(cat_features)\n",
    "    enc_cat_features = enc.transform(cat_features)\n",
    "    ## Now, apply one hot encoding\n",
    "    ohe = preprocessing.OneHotEncoder()\n",
    "    encoded = ohe.fit(enc_cat_features.reshape(-1,1))\n",
    "    return encoded.transform(enc_cat_features.reshape(-1,1)).toarray()\n",
    "\n",
    "categorical_columns = ['credit_history', 'purpose', 'gender_status', \n",
    "                       'time_in_residence', 'property']\n",
    "\n",
    "Features = encode_string(credit['checking_account_status'])\n",
    "for col in categorical_columns:\n",
    "    temp = encode_string(credit[col])\n",
    "    Features = np.concatenate([Features, temp], axis = 1)\n",
    "\n",
    "print(Features.shape)\n",
    "print(Features[:2, :])    "
   ]
  },
  {
   "cell_type": "markdown",
   "metadata": {},
   "source": [
    "Next the numeric features must be concatenated to the numpy array by executing the code in the cell below. "
   ]
  },
  {
   "cell_type": "code",
   "execution_count": 7,
   "metadata": {},
   "outputs": [
    {
     "name": "stdout",
     "output_type": "stream",
     "text": [
      "(1000, 35)\n",
      "[[  0.00000000e+00   1.00000000e+00   0.00000000e+00   0.00000000e+00\n",
      "    0.00000000e+00   1.00000000e+00   0.00000000e+00   0.00000000e+00\n",
      "    0.00000000e+00   0.00000000e+00   0.00000000e+00   0.00000000e+00\n",
      "    0.00000000e+00   0.00000000e+00   0.00000000e+00   0.00000000e+00\n",
      "    1.00000000e+00   0.00000000e+00   0.00000000e+00   0.00000000e+00\n",
      "    0.00000000e+00   0.00000000e+00   1.00000000e+00   0.00000000e+00\n",
      "    0.00000000e+00   0.00000000e+00   1.00000000e+00   0.00000000e+00\n",
      "    0.00000000e+00   1.00000000e+00   0.00000000e+00   6.00000000e+00\n",
      "    1.16900000e+03   4.00000000e+00   6.70000000e+01]\n",
      " [  1.00000000e+00   0.00000000e+00   0.00000000e+00   0.00000000e+00\n",
      "    0.00000000e+00   0.00000000e+00   1.00000000e+00   0.00000000e+00\n",
      "    0.00000000e+00   0.00000000e+00   0.00000000e+00   0.00000000e+00\n",
      "    0.00000000e+00   0.00000000e+00   0.00000000e+00   0.00000000e+00\n",
      "    1.00000000e+00   0.00000000e+00   0.00000000e+00   1.00000000e+00\n",
      "    0.00000000e+00   0.00000000e+00   0.00000000e+00   0.00000000e+00\n",
      "    1.00000000e+00   0.00000000e+00   0.00000000e+00   0.00000000e+00\n",
      "    0.00000000e+00   1.00000000e+00   0.00000000e+00   4.80000000e+01\n",
      "    5.95100000e+03   2.00000000e+00   2.20000000e+01]]\n"
     ]
    }
   ],
   "source": [
    "Features = np.concatenate([Features, np.array(credit[['loan_duration_mo', 'loan_amount', \n",
    "                            'payment_pcnt_income', 'age_yrs']])], axis = 1)\n",
    "print(Features.shape)\n",
    "print(Features[:2, :])   "
   ]
  },
  {
   "cell_type": "markdown",
   "metadata": {},
   "source": [
    "With the dummy variables the original 6 categorical features are now 31 dummy variables. With the 4 numeric features there are a total of 35. \n",
    "\n",
    "Now, answer **Question 2** on the course page."
   ]
  },
  {
   "cell_type": "markdown",
   "metadata": {},
   "source": [
    "You must split the cases into training and test data sets. This step is critical. If machine learning models are tested on the training data, the results will be both biased and overly optimistic.\n",
    "\n",
    "The code in the cell below performs the following processing:\n",
    "1. An index vector is Bernoulli sampled using the `train_test_split` function from the `model_selection` package of scikit-learn. \n",
    "2. The first column of the resulting index array contains the indices of the samples for the training cases. \n",
    "3. The second column of the resulting index array contains the indices of the samples for the test cases. \n",
    "\n",
    "Execute the code. "
   ]
  },
  {
   "cell_type": "code",
   "execution_count": 8,
   "metadata": {
    "collapsed": true
   },
   "outputs": [],
   "source": [
    "## Randomly sample cases to create independent training and test data\n",
    "nr.seed(9988)\n",
    "indx = range(Features.shape[0])\n",
    "indx = ms.train_test_split(indx, test_size = 300)\n",
    "X_train = Features[indx[0],:]\n",
    "y_train = np.ravel(labels[indx[0]])\n",
    "X_test = Features[indx[1],:]\n",
    "y_test = np.ravel(labels[indx[1]])"
   ]
  },
  {
   "cell_type": "markdown",
   "metadata": {},
   "source": [
    "There is just one more step in preparing this data. Numeric features must be rescaled so they have a similar range of values. Rescaling prevents features from having an undue influence on model training simply because then have a larger range of numeric variables.\n",
    "\n",
    "The code in the cell below uses the StanardScaler function from the Scikit Learn preprocessing package to Zscore scale the numeric features. Notice that the scaler is fit only on the training data. The trained scaler is these applied to the test data. Test data should always be scaled using the parameters from the training data.\n",
    "\n",
    "Execute this code."
   ]
  },
  {
   "cell_type": "code",
   "execution_count": 9,
   "metadata": {},
   "outputs": [
    {
     "data": {
      "text/plain": [
       "array([[  1.00000000e+00,   0.00000000e+00,   0.00000000e+00,\n",
       "          0.00000000e+00,   0.00000000e+00,   1.00000000e+00,\n",
       "          0.00000000e+00,   0.00000000e+00,   0.00000000e+00,\n",
       "          0.00000000e+00,   0.00000000e+00,   0.00000000e+00,\n",
       "          0.00000000e+00,   0.00000000e+00,   0.00000000e+00,\n",
       "          0.00000000e+00,   1.00000000e+00,   0.00000000e+00,\n",
       "          0.00000000e+00,   0.00000000e+00,   0.00000000e+00,\n",
       "          0.00000000e+00,   1.00000000e+00,   0.00000000e+00,\n",
       "          1.00000000e+00,   0.00000000e+00,   0.00000000e+00,\n",
       "          0.00000000e+00,   0.00000000e+00,   1.00000000e+00,\n",
       "          0.00000000e+00,   3.90000000e+01,   4.93300000e+03,\n",
       "          2.00000000e+00,  -9.33823618e-01],\n",
       "       [  0.00000000e+00,   1.00000000e+00,   0.00000000e+00,\n",
       "          0.00000000e+00,   0.00000000e+00,   0.00000000e+00,\n",
       "          1.00000000e+00,   0.00000000e+00,   0.00000000e+00,\n",
       "          0.00000000e+00,   0.00000000e+00,   0.00000000e+00,\n",
       "          0.00000000e+00,   0.00000000e+00,   1.00000000e+00,\n",
       "          0.00000000e+00,   0.00000000e+00,   0.00000000e+00,\n",
       "          0.00000000e+00,   1.00000000e+00,   0.00000000e+00,\n",
       "          0.00000000e+00,   0.00000000e+00,   0.00000000e+00,\n",
       "          1.00000000e+00,   0.00000000e+00,   0.00000000e+00,\n",
       "          1.00000000e+00,   0.00000000e+00,   0.00000000e+00,\n",
       "          0.00000000e+00,   2.40000000e+01,   7.72100000e+03,\n",
       "          1.00000000e+00,  -4.95232278e-01]])"
      ]
     },
     "execution_count": 9,
     "metadata": {},
     "output_type": "execute_result"
    }
   ],
   "source": [
    "scaler = preprocessing.StandardScaler().fit(X_train[:,34:])\n",
    "X_train[:,34:] = scaler.transform(X_train[:,34:])\n",
    "X_test[:,34:] = scaler.transform(X_test[:,34:])\n",
    "X_train[:2,]"
   ]
  },
  {
   "cell_type": "markdown",
   "metadata": {},
   "source": [
    "The four numeric features are now scaled. "
   ]
  },
  {
   "cell_type": "markdown",
   "metadata": {},
   "source": [
    "## Construct the logistic regression model\n",
    "\n",
    "Now, it is time to compute the logistic regression model. The code in the cell below does the following:\n",
    "1. Define a logistic regression model object using the `LogisticRegression` method from the scikit-learn `linear_model` package.\n",
    "2. Fit the linear model using the numpy arrays of the features and the labels for the training data set.\n",
    "\n",
    "Execute this code. "
   ]
  },
  {
   "cell_type": "code",
   "execution_count": 10,
   "metadata": {},
   "outputs": [
    {
     "data": {
      "text/plain": [
       "LogisticRegression(C=1.0, class_weight=None, dual=False, fit_intercept=True,\n",
       "          intercept_scaling=1, max_iter=100, multi_class='ovr', n_jobs=1,\n",
       "          penalty='l2', random_state=None, solver='liblinear', tol=0.0001,\n",
       "          verbose=0, warm_start=False)"
      ]
     },
     "execution_count": 10,
     "metadata": {},
     "output_type": "execute_result"
    }
   ],
   "source": [
    "logistic_mod = linear_model.LogisticRegression() \n",
    "logistic_mod.fit(X_train, y_train)"
   ]
  },
  {
   "cell_type": "markdown",
   "metadata": {},
   "source": [
    "The model has been computed. Notice that the configuration of the model object has been printed. In this case, only default settings are shown, since no arguments were given to create the model object. "
   ]
  },
  {
   "cell_type": "markdown",
   "metadata": {},
   "source": [
    "Now, print and examine the model coefficients by executing the code in the cell below. "
   ]
  },
  {
   "cell_type": "code",
   "execution_count": 11,
   "metadata": {},
   "outputs": [
    {
     "name": "stdout",
     "output_type": "stream",
     "text": [
      "[-0.76727224]\n",
      "[[ -1.59374221e-02   7.39177603e-01  -2.94111710e-01  -1.19640071e+00\n",
      "    3.97869416e-01  -1.12455694e+00  -4.21858667e-01   7.52579627e-01\n",
      "   -3.71305682e-01  -6.79147049e-02   4.94534514e-01  -6.47568547e-01\n",
      "    1.06926304e-01   1.34944738e-01   1.96774840e-02  -2.45682969e-01\n",
      "   -4.09753608e-01   6.00508729e-02  -2.12486325e-01  -1.09403230e-01\n",
      "    5.01080652e-02  -8.89393186e-02  -6.19037759e-01  -5.57308307e-01\n",
      "    2.16383011e-01  -3.80662769e-01  -4.56841771e-02  -2.70131868e-01\n",
      "   -1.02912346e-01  -5.25305544e-01   1.31077515e-01   2.28993167e-02\n",
      "    5.97248576e-05   2.04549997e-01  -1.83529061e-01]]\n"
     ]
    }
   ],
   "source": [
    "print(logistic_mod.intercept_)\n",
    "print(logistic_mod.coef_)"
   ]
  },
  {
   "cell_type": "markdown",
   "metadata": {},
   "source": [
    "First of all, notice that model coefficients look just as they would for an regression model. This is expected as previously explained. Additionally, nearly all the coefficients have the same magnitude indicating this model is likely to be overfit, given the number of features. "
   ]
  },
  {
   "cell_type": "markdown",
   "metadata": {},
   "source": [
    "Recall that the logistic regression model outputs probabilities for each class. The class with the highest probability is taken as the score (prediction). Execute the code and the cell below to compute and display a sample of these class probabilities for the test feature set. "
   ]
  },
  {
   "cell_type": "code",
   "execution_count": 12,
   "metadata": {},
   "outputs": [
    {
     "name": "stdout",
     "output_type": "stream",
     "text": [
      "[[ 0.84579835  0.15420165]\n",
      " [ 0.40080293  0.59919707]\n",
      " [ 0.94197802  0.05802198]\n",
      " [ 0.31667561  0.68332439]\n",
      " [ 0.54805344  0.45194656]\n",
      " [ 0.97412095  0.02587905]\n",
      " [ 0.9482193   0.0517807 ]\n",
      " [ 0.62814487  0.37185513]\n",
      " [ 0.87424297  0.12575703]\n",
      " [ 0.92512634  0.07487366]\n",
      " [ 0.55953922  0.44046078]\n",
      " [ 0.40216148  0.59783852]\n",
      " [ 0.50480654  0.49519346]\n",
      " [ 0.67347129  0.32652871]\n",
      " [ 0.34062478  0.65937522]]\n"
     ]
    }
   ],
   "source": [
    "probabilities = logistic_mod.predict_proba(X_test)\n",
    "print(probabilities[:15,:])"
   ]
  },
  {
   "cell_type": "markdown",
   "metadata": {},
   "source": [
    "The first column is the probability of a score of $0$ and the second column is the probability of a score of $1$. Notice that for most, but not all cases, the probability of a score of $0$ is higher than $1$. "
   ]
  },
  {
   "cell_type": "markdown",
   "metadata": {},
   "source": [
    "## Score and evaluate the classification model\n",
    "\n",
    "Now that the class probabilities have been computed these values must be transformed into actual class scores. Recall that the log likelihoods for two-class logistic regression are computed by applying the sigmoid or logistic transformation to the output of the linear model. The simple choice is to set the threshold between the two likelihoods at $0.5$. The code in the cell below applies this initial threshold to the probability of a score of $0$ for the test data. A few examples along with the known labels are then displayed. Execute this code and examine the result."
   ]
  },
  {
   "cell_type": "code",
   "execution_count": 13,
   "metadata": {},
   "outputs": [
    {
     "name": "stdout",
     "output_type": "stream",
     "text": [
      "[0 1 0 1 0 0 0 0 0 0 0 1 0 0 1]\n",
      "[0 0 0 1 0 0 0 0 1 0 0 1 1 0 1]\n"
     ]
    }
   ],
   "source": [
    "def score_model(probs, threshold):\n",
    "    return np.array([1 if x > threshold else 0 for x in probs[:,1]])\n",
    "scores = score_model(probabilities, 0.5)\n",
    "print(np.array(scores[:15]))\n",
    "print(y_test[:15])"
   ]
  },
  {
   "cell_type": "markdown",
   "metadata": {},
   "source": [
    "Some of the positive ($1$) predictions agree with the test labels in the second row, but several do not."
   ]
  },
  {
   "cell_type": "markdown",
   "metadata": {},
   "source": [
    "Given the results of the test data, how can you quantify the performance of the model? In general, you must **always use multiple metrics to evaluate the performance of any machine leaning model**, including classifiers. \n",
    "\n",
    "For classifiers there are a number of metrics commonly used. The **confusion matrix** lays out the correctly and incorrectly classified cases in a tabular format. There are various metrics derived from the values in the confusion matrix. Some of the common cases are briefly reviewed below. \n",
    "\n",
    "**Confusion matrix**\n",
    "\n",
    "As already stated, the confusion matrix lays out correctly and incorrectly classified cases. For the binary (two-class) case the confusion matrix is organized as follows:\n",
    "\n",
    "| | Scored Positive | Scored Negative|  \n",
    "|------|:------:|:------:| \n",
    "|**Actual Positive** | True Positive | False Negative |\n",
    "|**Actual Negative**| False Positive | True Negative |   \n",
    "\n",
    "Here the four elements in the matrix are defined as:    \n",
    "**True Positive** or **TP** are cases with positive labels which have been correctly classified as positive.     \n",
    "**True Negative** or **TN** are cases with negative labels which have been correctly classified as negative.  \n",
    "**False Positive** or **FP** are cases with negative labels which have been incorrectly classified as positive.   \n",
    "**False Negative** or **FN** are cases with positive labels which have been incorrectly classified as negative.\n",
    "\n",
    "When creating a confusion matrix it is important to understand and maintain a convention for which differentiating positive and negative label values. The usual convention is to call the $1$ case positive and the $0$ case negative. \n",
    "\n",
    "Notice that there is an ambiguity in which case is considered positive and which is considered negative when the confusion matrix is computed. Whenever you examine a confusion matrix it is a good idea to spend a moment and decide which case is which. This step will help you relate the results to the problem at hand. \n",
    "\n",
    "**Accuracy**\n",
    "\n",
    "Accuracy is a simple and often misused metric. In simple terms, accuracy is the fraction of cases correctly classified. For a two-class classifier accuracy is written as:\n",
    "\n",
    "$$Accuracy = \\frac{TP+TN}{TP+FP+TN+FN}$$\n",
    "\n",
    "Accuracy can be quite misleading. For example, say a classifier is used to detect fraudulent accounts and the rate of fraud is less than 1%. A naive model would be to say all accounts are not fraudulent. This model has accuracy exceeding  0.99. This sounds impressive, but is clearly useless. \n",
    "\n",
    "**Precision**\n",
    "\n",
    "Precision is the fraction of correctly classified label cases out of all cases classified with that label value. We can express precision by the following relationship:\n",
    "\n",
    "$$Precision = \\frac{M_{i,i}}{\\sum_j M_{i,j}}$$\n",
    "\n",
    "In other words, the precision statistic is the number of correctly classified cases for the label value divided by all the cases in the column. Thus, precision is sensitive to the number of cases correctly classified for a given score value. \n",
    "\n",
    "**Recall**  \n",
    "\n",
    "Recall is the fraction of cases of a label value correctly classified out of all cases that actually have that label value. We can express recall by the following relationship:\n",
    "\n",
    "$$Recall = \\frac{M_{i,i}}{\\sum_i M_{i,j}}$$\n",
    "\n",
    "In other words, the recall statistic is the number of correctly classified cases for the label value divided by all the cases in the row. Thus, precision is sensitive to the number of cases correctly classified for a given true label value. \n",
    "\n",
    "**F1**\n",
    "\n",
    "The F1 statistic is weighted average of precision and recall. We can express F1 by the following relationship:\n",
    "\n",
    "$$F1 = 2 * \\frac{precision * recall}{precision + recall}$$\n",
    "\n",
    "In other words, F1 is a weighted metric for overall model performance. \n",
    "\n",
    "**ROC** and **AUC**\n",
    "\n",
    "The receiver operating characteristic or ROC is a curve that displays the relationship between the true positive rate on the vertical axis and false positive rate on the horizontal axis. The ROC curve shows the tradeoff between true positive rate and false positive rate. An example is illustrated below.   \n",
    "\n",
    "In principle, you can pick the desired operating point for a classifier on this curve. Towards the left favors low false positive rate at the expense of true positive rate. Towards the right favors high true positive rate at the expense of higher false positive rate.  \n",
    "\n",
    "\n",
    "\n",
    "<img src=\"img/ROC_AUC.JPG\" alt=\"drawing\" width=\"480px\"/>\n",
    "\n",
    "<center>**ROC curve with values of AUC for balanced two-class problem**</center>\n",
    "\n",
    "The AUC is the area or integral under the ROC curve. The overall performance of the classifier is measured by the area under the curve or AUC. But, how can you interpret a specific AUC value? The higher the AUC the lower the increase in false positive rate required to achieve a required true positive rate.  For an ideal classifier the AUC is 1.0. A true positive rate is achieved with a 0 false positive rate. This behavior means that AUC is useful for comparing classifiers. The classifier with higher AUC is generally the better one. \n",
    "\n",
    "For balanced cases, random guessing gives an AUC or 0.5. A balanced case has equal numbers of positive and negative cases. So Bernoulli sampling (random guessing) with a probability $p$ for the positive case, will produce a ROC curve that runs diagonally from $0.0,0.0$ to $1.0,1.0$. The area under this triangular region is 0.5. It is often said that a classifier with an AUC of greater than 0.5 is better than random guessing. But, **for unbalanced cases this statement is not in true in general**. \n",
    "\n",
    "****\n",
    "**Note:** The term receive operating characteristic may seem a bit odd in the machine learning context. This term arose in the early days of radar engineering as a metric to measure the tradeoff between radar signal receiver correctly detecting a target, say an aircraft, and producing a positive response from noise, such as flying birds or clouds. A radar receiver would be adjusted to the desired operating point along its ROC curve. \n",
    "****"
   ]
  },
  {
   "cell_type": "markdown",
   "metadata": {},
   "source": [
    "The code in the cell below implements a function that computes and displays the forementioned classifier performance metrics. The code metrics are computed using the `precision_recall_fscore_support` and `accuracy_score` functions from the `metrics` package of scikit-learn. The confusion matrix is computed using the `confusion_matrix` function from this same package. Execute this code and examine the results for the logistic regression model. "
   ]
  },
  {
   "cell_type": "code",
   "execution_count": 14,
   "metadata": {},
   "outputs": [
    {
     "name": "stdout",
     "output_type": "stream",
     "text": [
      "                 Confusion matrix\n",
      "                 Score positive    Score negative\n",
      "Actual positive       182                30\n",
      "Actual negative        39                49\n",
      "\n",
      "Accuracy  0.77\n",
      " \n",
      "           Positive      Negative\n",
      "Num case      212            88\n",
      "Precision    0.82          0.62\n",
      "Recall       0.86          0.56\n",
      "F1           0.84          0.59\n"
     ]
    }
   ],
   "source": [
    "def print_metrics(labels, scores):\n",
    "    metrics = sklm.precision_recall_fscore_support(labels, scores)\n",
    "    conf = sklm.confusion_matrix(labels, scores)\n",
    "    print('                 Confusion matrix')\n",
    "    print('                 Score positive    Score negative')\n",
    "    print('Actual positive    %6d' % conf[0,0] + '             %5d' % conf[0,1])\n",
    "    print('Actual negative    %6d' % conf[1,0] + '             %5d' % conf[1,1])\n",
    "    print('')\n",
    "    print('Accuracy  %0.2f' % sklm.accuracy_score(labels, scores))\n",
    "    print(' ')\n",
    "    print('           Positive      Negative')\n",
    "    print('Num case   %6d' % metrics[3][0] + '        %6d' % metrics[3][1])\n",
    "    print('Precision  %6.2f' % metrics[0][0] + '        %6.2f' % metrics[0][1])\n",
    "    print('Recall     %6.2f' % metrics[1][0] + '        %6.2f' % metrics[1][1])\n",
    "    print('F1         %6.2f' % metrics[2][0] + '        %6.2f' % metrics[2][1])\n",
    "\n",
    "\n",
    "    \n",
    "print_metrics(y_test, scores)    "
   ]
  },
  {
   "cell_type": "markdown",
   "metadata": {},
   "source": [
    "Examine these results:\n",
    "1. The confusion matrix shows the following characteristics; a) most of the positive cases are correctly classified, 182 vs. 30, however, b) may negative cases are are scored incorrectly, with only 49 correct, vs. 39 incorrect.   \n",
    "2. The overall accuracy is 0.77. However as just observed this is **extremely misleading!**. In fact the negative cases are poorly classified, and it is these bad credit customers the bank cares most about. This is not an unusual case. Accuracy figures should always be regarded with healthy skepticism.\n",
    "3. The class imbalance is confirmed. Of the 300 test cases 212 are positive and 88 are negative. \n",
    "4. The precision, recall and F1 all show that positive cases are classified reasonably well, but the negative cases are not. As already mentioned, it is these negative cases that are of greatest importance to the bank. \n",
    "\n",
    "Finally, the code in the cell below computes and displays the ROC curve and AUC. The `roc_curve` and `auc` functions from the scikit-learn `metrics` package are used to compute these values. \n",
    "\n",
    "Execute this code, examine the result, and answer **Question 3** on the course page."
   ]
  },
  {
   "cell_type": "code",
   "execution_count": 15,
   "metadata": {},
   "outputs": [
    {
     "data": {
      "image/png": "[encoded data removed]",
      "text/plain": [
       "<matplotlib.figure.Figure at 0xb1b4730>"
      ]
     },
     "metadata": {},
     "output_type": "display_data"
    }
   ],
   "source": [
    "def plot_auc(labels, probs):\n",
    "    ## Compute the false positive rate, true positive rate\n",
    "    ## and threshold along with the AUC\n",
    "    fpr, tpr, threshold = sklm.roc_curve(labels, probs[:,1])\n",
    "    auc = sklm.auc(fpr, tpr)\n",
    "    \n",
    "    ## Plot the result\n",
    "    plt.title('Receiver Operating Characteristic')\n",
    "    plt.plot(fpr, tpr, color = 'orange', label = 'AUC = %0.2f' % auc)\n",
    "    plt.legend(loc = 'lower right')\n",
    "    plt.plot([0, 1], [0, 1],'r--')\n",
    "    plt.xlim([0, 1])\n",
    "    plt.ylim([0, 1])\n",
    "    plt.ylabel('True Positive Rate')\n",
    "    plt.xlabel('False Positive Rate')\n",
    "    plt.show()\n",
    "    \n",
    "plot_auc(y_test, probabilities)    "
   ]
  },
  {
   "cell_type": "markdown",
   "metadata": {},
   "source": [
    "The ROC curve is above the diagonal red-dotted line and the AUC is 0.77. But, given the class imbalance of two positive cases for each negative case how good is this? \n",
    "\n",
    "One point of comparison is a naive 'classifier' that sets all cases to positive. The code in the cell below contains such a classifier. This algorithm is not really a classifier at all. This 'classifier' is hard coded. The ROC curve and AUC are then computed and displayed. Run this code, and examine the result. "
   ]
  },
  {
   "cell_type": "code",
   "execution_count": 16,
   "metadata": {
    "scrolled": false
   },
   "outputs": [
    {
     "name": "stderr",
     "output_type": "stream",
     "text": [
      "C:\\Anaconda3\\lib\\site-packages\\sklearn\\metrics\\classification.py:1135: UndefinedMetricWarning: Precision and F-score are ill-defined and being set to 0.0 in labels with no predicted samples.\n",
      "  'precision', 'predicted', average, warn_for)\n"
     ]
    },
    {
     "name": "stdout",
     "output_type": "stream",
     "text": [
      "                 Confusion matrix\n",
      "                 Score positive    Score negative\n",
      "Actual positive       212                 0\n",
      "Actual negative        88                 0\n",
      "\n",
      "Accuracy  0.71\n",
      " \n",
      "           Positive      Negative\n",
      "Num case      212            88\n",
      "Precision    0.71          0.00\n",
      "Recall       1.00          0.00\n",
      "F1           0.83          0.00\n"
     ]
    },
    {
     "data": {
      "image/png": "[encoded data removed]",
      "text/plain": [
       "<matplotlib.figure.Figure at 0xb01f4d0>"
      ]
     },
     "metadata": {},
     "output_type": "display_data"
    }
   ],
   "source": [
    "probs_positive = np.concatenate((np.ones((probabilities.shape[0], 1)), \n",
    "                                 np.zeros((probabilities.shape[0], 1))),\n",
    "                                 axis = 1)\n",
    "scores_positive = score_model(probs_positive, 0.5)\n",
    "print_metrics(y_test, scores_positive)  \n",
    "plot_auc(y_test, probs_positive) "
   ]
  },
  {
   "cell_type": "markdown",
   "metadata": {},
   "source": [
    "Notice, the accuracy from this 'classifier' is 0.71. This reflects the class imbalance. The ROC curve is directly along the diagonal which gives an AUC of 0.5. The logistic regression classifier is definitely better than this!"
   ]
  },
  {
   "cell_type": "markdown",
   "metadata": {},
   "source": [
    "## Compute a weighted model\n",
    "\n",
    "Recall that a falsely classifying a bad credit risk customer as good costs the bank five times more than classifying a good credit risk customer as bad. Given this situation, the results of the first model are not that good. There are two reasons for this:\n",
    "\n",
    "1. The class imbalance in the label has biased the training of the model. As you observed from the accuracy of the naive 'classifier' is not that different from the logistic regression model. \n",
    "2. Nothing has been done to weight the results toward correctly classifying the bad credit risk customers at the expense of the good credit risk customers.\n",
    "\n",
    "One approach to these problems is to weight the classes when computing the logistic regression model. The code in the cell below adds a `class_weight` argument to the call to the `LogisticRegression` function. In this case weights are chosen as $0.45, 0.55$  but you can also give another combination. Execute this code"
   ]
  },
  {
   "cell_type": "code",
   "execution_count": 17,
   "metadata": {
    "scrolled": true
   },
   "outputs": [
    {
     "data": {
      "text/plain": [
       "LogisticRegression(C=1.0, class_weight={0: 0.45, 1: 0.55}, dual=False,\n",
       "          fit_intercept=True, intercept_scaling=1, max_iter=100,\n",
       "          multi_class='ovr', n_jobs=1, penalty='l2', random_state=None,\n",
       "          solver='liblinear', tol=0.0001, verbose=0, warm_start=False)"
      ]
     },
     "execution_count": 17,
     "metadata": {},
     "output_type": "execute_result"
    }
   ],
   "source": [
    "logistic_mod = linear_model.LogisticRegression(class_weight = {0:0.45, 1:0.55}) \n",
    "logistic_mod.fit(X_train, y_train)"
   ]
  },
  {
   "cell_type": "markdown",
   "metadata": {},
   "source": [
    "Next, execute the code in the cell below to compute and display the class probabilities for each case. "
   ]
  },
  {
   "cell_type": "code",
   "execution_count": 18,
   "metadata": {},
   "outputs": [
    {
     "name": "stdout",
     "output_type": "stream",
     "text": [
      "[[ 0.8159966   0.1840034 ]\n",
      " [ 0.35413981  0.64586019]\n",
      " [ 0.92908602  0.07091398]\n",
      " [ 0.28854998  0.71145002]\n",
      " [ 0.52090579  0.47909421]\n",
      " [ 0.96187444  0.03812556]\n",
      " [ 0.92931644  0.07068356]\n",
      " [ 0.57734787  0.42265213]\n",
      " [ 0.84856195  0.15143805]\n",
      " [ 0.89975298  0.10024702]\n",
      " [ 0.52001563  0.47998437]\n",
      " [ 0.37234661  0.62765339]\n",
      " [ 0.46653479  0.53346521]\n",
      " [ 0.6383099   0.3616901 ]\n",
      " [ 0.31163885  0.68836115]]\n"
     ]
    }
   ],
   "source": [
    "probabilities = logistic_mod.predict_proba(X_test)\n",
    "print(probabilities[:15,:])"
   ]
  },
  {
   "cell_type": "markdown",
   "metadata": {},
   "source": [
    "By eyeball, the above probabilities are not terribly different from the unweighted model. "
   ]
  },
  {
   "cell_type": "markdown",
   "metadata": {},
   "source": [
    "To find if there is any significant difference with the unweighted model, compute the scores and the metrics and display the metrics by executing the code in the cell below. \n",
    "\n",
    "Then, answer **Question 4** on the course page."
   ]
  },
  {
   "cell_type": "code",
   "execution_count": 19,
   "metadata": {
    "scrolled": false
   },
   "outputs": [
    {
     "name": "stdout",
     "output_type": "stream",
     "text": [
      "                 Confusion matrix\n",
      "                 Score positive    Score negative\n",
      "Actual positive       178                34\n",
      "Actual negative        33                55\n",
      "\n",
      "Accuracy  0.78\n",
      " \n",
      "           Positive      Negative\n",
      "Num case      212            88\n",
      "Precision    0.84          0.62\n",
      "Recall       0.84          0.62\n",
      "F1           0.84          0.62\n"
     ]
    },
    {
     "data": {
      "image/png": "[encoded data removed]",
      "text/plain": [
       "<matplotlib.figure.Figure at 0xb215db0>"
      ]
     },
     "metadata": {},
     "output_type": "display_data"
    }
   ],
   "source": [
    "scores = score_model(probabilities, 0.5)\n",
    "print_metrics(y_test, scores)  \n",
    "plot_auc(y_test, probabilities)  "
   ]
  },
  {
   "cell_type": "markdown",
   "metadata": {},
   "source": [
    "The accuracy is slightly changed with respect to the unweighted model. The change could be more had we give more weights to one of the class than what we did here. The precision, recall and F1 are slightly better for the negative cases. Reweighting the labels has moved the results in the desired direction, at least a bit.\n",
    "\n",
    "Notice also, the ROC curve and AUC are essentially unchanged. The trade-off between true positive and false positive is similar to the unweighted model. "
   ]
  },
  {
   "cell_type": "markdown",
   "metadata": {},
   "source": [
    "## Find a better threshold\n",
    "\n",
    "There is another way to tip the model scoring toward correctly identifying the bad credit cases. The scoring threshold can be adjusted. Until now, the scores have been computed from the probabilities using a threshold of 0.5. However, there is no reason to think this is the correct choice. Recall that the score is  determined by setting the threshold along the sigmoidal or logistic function. It is possible to favor either positive or negative cases by changing the threshold along this curve. \n",
    "\n",
    "The code in the cell below contains a function for scoring and evaluating the model for a given threshold value. The `for` loop iterates over the list of five candidate threshold values. Execute this code and examine how changing the threshold value changes the scoring for the model. "
   ]
  },
  {
   "cell_type": "code",
   "execution_count": 20,
   "metadata": {},
   "outputs": [
    {
     "name": "stdout",
     "output_type": "stream",
     "text": [
      "\n",
      "For threshold = 0.45\n",
      "                 Confusion matrix\n",
      "                 Score positive    Score negative\n",
      "Actual positive       165                47\n",
      "Actual negative        30                58\n",
      "\n",
      "Accuracy  0.74\n",
      " \n",
      "           Positive      Negative\n",
      "Num case      212            88\n",
      "Precision    0.85          0.55\n",
      "Recall       0.78          0.66\n",
      "F1           0.81          0.60\n",
      "\n",
      "For threshold = 0.4\n",
      "                 Confusion matrix\n",
      "                 Score positive    Score negative\n",
      "Actual positive       151                61\n",
      "Actual negative        26                62\n",
      "\n",
      "Accuracy  0.71\n",
      " \n",
      "           Positive      Negative\n",
      "Num case      212            88\n",
      "Precision    0.85          0.50\n",
      "Recall       0.71          0.70\n",
      "F1           0.78          0.59\n",
      "\n",
      "For threshold = 0.35\n",
      "                 Confusion matrix\n",
      "                 Score positive    Score negative\n",
      "Actual positive       142                70\n",
      "Actual negative        22                66\n",
      "\n",
      "Accuracy  0.69\n",
      " \n",
      "           Positive      Negative\n",
      "Num case      212            88\n",
      "Precision    0.87          0.49\n",
      "Recall       0.67          0.75\n",
      "F1           0.76          0.59\n",
      "\n",
      "For threshold = 0.3\n",
      "                 Confusion matrix\n",
      "                 Score positive    Score negative\n",
      "Actual positive       123                89\n",
      "Actual negative        19                69\n",
      "\n",
      "Accuracy  0.64\n",
      " \n",
      "           Positive      Negative\n",
      "Num case      212            88\n",
      "Precision    0.87          0.44\n",
      "Recall       0.58          0.78\n",
      "F1           0.69          0.56\n",
      "\n",
      "For threshold = 0.25\n",
      "                 Confusion matrix\n",
      "                 Score positive    Score negative\n",
      "Actual positive       116                96\n",
      "Actual negative        17                71\n",
      "\n",
      "Accuracy  0.62\n",
      " \n",
      "           Positive      Negative\n",
      "Num case      212            88\n",
      "Precision    0.87          0.43\n",
      "Recall       0.55          0.81\n",
      "F1           0.67          0.56\n"
     ]
    }
   ],
   "source": [
    "def test_threshold(probs, labels, threshold):\n",
    "    scores = score_model(probs, threshold)\n",
    "    print('')\n",
    "    print('For threshold = ' + str(threshold))\n",
    "    print_metrics(labels, scores)\n",
    "\n",
    "thresholds = [0.45, 0.40, 0.35, 0.3, 0.25]\n",
    "for t in thresholds:\n",
    "    test_threshold(probabilities, y_test, t)"
   ]
  },
  {
   "cell_type": "markdown",
   "metadata": {},
   "source": [
    "As the threshold is decreased the number of correctly classified negative cases (bad credit customers) increases at the expense of correctly classifying positive cases (good credit customers). At the same time, accuracy decreases. However, as you have observed, accuracy is not a particularly useful metric here. \n",
    "\n",
    "Exactly which threshold to pick is a business decision. Notice that with a threshold value of 0.25 the number of false negatives (misclassified good credit customers) is about four times that of false positives (misclassified bad credit customers). "
   ]
  },
  {
   "cell_type": "markdown",
   "metadata": {},
   "source": [
    "## Summary\n",
    "\n",
    "In this lesson you have done the following:\n",
    "1. Prepared the credit risk data set for modeling with scikit-learn. The steps included scaling the numeric features, and dummy variable coding the categorical features. The result is a numpy array of features and a numpy array of the label values. \n",
    "2. Computed a logistic regression model. \n",
    "3. Evaluated the performance of the module using multiple metrics. It is clear that accuracy is not a particularly useful metric here. The naive 'classifier' produced accuracy that was only somewhat worse as a result of the class imbalance.  The confusion matrix and the precision, recall and F1 statistics gave meaningful measures of model performance, especially when considered together. \n",
    "4. Reweighted the labels and changed the decision threshold for the reweighted model. These steps helped overcome both the class imbalance problem and the asymmetric cost of misclassification to the bank. "
   ]
  },
  {
   "cell_type": "code",
   "execution_count": null,
   "metadata": {
    "collapsed": true
   },
   "outputs": [],
   "source": []
  }
 ],
 "metadata": {
  "kernelspec": {
   "display_name": "Python 3",
   "language": "python",
   "name": "python3"
  },
  "language_info": {
   "codemirror_mode": {
    "name": "ipython",
    "version": 3
   },
   "file_extension": ".py",
   "mimetype": "text/x-python",
   "name": "python",
   "nbconvert_exporter": "python",
   "pygments_lexer": "ipython3",
   "version": "3.6.3"
  }
 },
 "nbformat": 4,
 "nbformat_minor": 2
}
